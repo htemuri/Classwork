{
 "cells": [
  {
   "cell_type": "markdown",
   "id": "859352db",
   "metadata": {},
   "source": [
    "#### Problem Description\n",
    "\n",
    "##### Problem 1\n",
    "\n",
    "Problem 1 wants us to solve a D.E. with the following equation:\n",
    "\n",
    "$$  \\begin{cases} \n",
    "      \\frac{dy}{dx} = \\frac{y}{x}-\\sqrt{1+(\\frac{y}{x})^2} \\\\\n",
    "      y(x=a)=0 \n",
    "    \\end{cases}\n",
    "$$\n",
    "\n",
    "With the given values, we want to use any solution method including the Euler's methods and the Runge-Kutta method to compute the curve.\n",
    "\n",
    "\n",
    "##### Problem 2\n",
    "\n",
    "djkslfjlksd\n",
    "\n",
    "\n",
    "#### Algorithm Description and Pseudo-Code\n",
    "\n",
    "##### Problem 1\n",
    "\n",
    "I chose to solve for the curve using the 4th order Runge Kutta method. The first thing I did was define the "
   ]
  },
  {
   "cell_type": "code",
   "execution_count": 1,
   "id": "268f26e9",
   "metadata": {},
   "outputs": [],
   "source": []
  }
 ],
 "metadata": {
  "kernelspec": {
   "display_name": "Python 3.8.5 64-bit",
   "language": "python",
   "name": "python38564bit22467c21024f4bc29beb95124c561c37"
  },
  "language_info": {
   "codemirror_mode": {
    "name": "ipython",
    "version": 3
   },
   "file_extension": ".py",
   "mimetype": "text/x-python",
   "name": "python",
   "nbconvert_exporter": "python",
   "pygments_lexer": "ipython3",
   "version": "3.8.5"
  }
 },
 "nbformat": 4,
 "nbformat_minor": 5
}
